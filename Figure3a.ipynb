{
 "cells": [
  {
   "cell_type": "code",
   "execution_count": null,
   "id": "4880a51c-c6d9-4b06-ae05-f3a9fa951b2a",
   "metadata": {},
   "outputs": [],
   "source": [
    "import numpy as np\n",
    "import matplotlib.pyplot as plt\n",
    "from scipy.fftpack import fft,ifft\n",
    "from scipy import signal\n",
    "import glob\n",
    "import os\n",
    "import scipy.io as sio\n",
    "from matplotlib.pyplot import MultipleLocator\n",
    "\n",
    "def sin_wave(A, f, fs, phi, t):\n",
    "    Ts = 1/fs\n",
    "    n = t / Ts\n",
    "    n = np.arange(n)\n",
    "    y = A*np.sin(2*np.pi*f*n*Ts + phi*(np.pi/180))\n",
    "    return y\n",
    "\n",
    "t = np.linspace(0, 5, 2500, endpoint=False)\n",
    "x4 = sin_wave(A=1, f=4, fs=500, phi=np.pi/2, t=5) + np.random.normal(loc=0,scale=0.5,size=2500) ## x\n",
    "x6 = sin_wave(A=1, f=6, fs=500, phi=np.pi/2, t=5) + np.random.normal(loc=0,scale=0.5,size=2500) ## y\n",
    "x46 = x4+x6+x4*x6\n",
    "x4 = x4+20\n",
    "x6 = x6+15\n",
    "x46 = x46+5\n",
    "fig = plt.figure(1, figsize=(6,3),dpi = 300)\n",
    "ax = plt.axes()\n",
    "ax.spines['top'].set_visible(False)\n",
    "ax.spines['right'].set_visible(False)\n",
    "plt.plot(t,x46)\n",
    "plt.plot(t,x4)\n",
    "plt.plot(t,x6)\n",
    "x_major_locator=MultipleLocator(1)\n",
    "y_major_locator=MultipleLocator(1000)\n",
    "ax = plt.gca()\n",
    "ax.xaxis.set_major_locator(x_major_locator)\n",
    "ax.yaxis.set_major_locator(y_major_locator)\n",
    "plt.savefig(r\"C:\\***.png\")"
   ]
  }
 ],
 "metadata": {
  "kernelspec": {
   "display_name": "Python 3 (ipykernel)",
   "language": "python",
   "name": "python3"
  },
  "language_info": {
   "codemirror_mode": {
    "name": "ipython",
    "version": 3
   },
   "file_extension": ".py",
   "mimetype": "text/x-python",
   "name": "python",
   "nbconvert_exporter": "python",
   "pygments_lexer": "ipython3",
   "version": "3.9.7"
  }
 },
 "nbformat": 4,
 "nbformat_minor": 5
}
