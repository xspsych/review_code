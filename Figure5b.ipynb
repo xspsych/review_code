{
 "cells": [
  {
   "cell_type": "code",
   "execution_count": null,
   "id": "0b5eaaab-546b-42a1-a246-cdd4eb029de4",
   "metadata": {},
   "outputs": [],
   "source": [
    "t = np.linspace(0, 5, 2500, endpoint=False)\n",
    "x4 = sin_wave(A=1, f=4, fs=500, phi=np.pi/2, t=5) + np.random.normal(loc=0,scale=0.5,size=2500) ## x\n",
    "x6 = sin_wave(A=1, f=6, fs=500, phi=np.pi/2, t=5) + np.random.normal(loc=0,scale=0.5,size=2500) ## y\n",
    "x4_rec = [0]*2500\n",
    "x6_rec = [0]*2500\n",
    "x4_hsq = [0]*2500\n",
    "x6_hsq = [0]*2500\n",
    "x4_sq = [0]*2500\n",
    "x6_sq = [0]*2500\n",
    "a = [0]*2500\n",
    "for i in range(2500):\n",
    "    if x4[i] > 0:\n",
    "        x4_sq[i] = 1\n",
    "    else:\n",
    "        x4_sq[i] = -1\n",
    "    if x6[i] > 0:\n",
    "        x6_sq[i] = 1\n",
    "    else:\n",
    "        x6_sq[i] = -1\n",
    "\n",
    "    if x4[i] > 0:\n",
    "        x4_hsq[i] = x4[i]*x4[i]\n",
    "    else:\n",
    "        x4_hsq[i] = 0\n",
    "    a[i] = x4_sq[i]*x6_sq[i]\n",
    "        \n",
    "\n",
    "x_ftt = abs(fft(x4))\n",
    "x_fft = x_ftt[range(int(len(t)/2))]\n",
    "\n",
    "fig = plt.figure(1, figsize=(6,1),dpi = 300)\n",
    "ax = plt.axes()\n",
    "ax.spines['top'].set_visible(False)\n",
    "ax.spines['right'].set_visible(False)\n",
    "\n",
    "t_fft = np.linspace(0, 250, 1250, endpoint=False)\n",
    "x_fft[0] = 3\n",
    "\n",
    "plt.plot(t_fft,x_fft,'r')\n",
    "x_major_locator=MultipleLocator(2)\n",
    "y_major_locator=MultipleLocator(1000)\n",
    "ax = plt.gca()\n",
    "ax.xaxis.set_major_locator(x_major_locator)\n",
    "ax.yaxis.set_major_locator(y_major_locator)\n",
    "plt.xticks(fontsize=15)\n",
    "plt.yticks(fontsize=15)\n",
    "plt.xlim(0, 20)\n",
    "plt.ylim(0, 1500)\n",
    "plt.savefig(r\"C:\\***.png\")"
   ]
  }
 ],
 "metadata": {
  "kernelspec": {
   "display_name": "Python 3 (ipykernel)",
   "language": "python",
   "name": "python3"
  },
  "language_info": {
   "codemirror_mode": {
    "name": "ipython",
    "version": 3
   },
   "file_extension": ".py",
   "mimetype": "text/x-python",
   "name": "python",
   "nbconvert_exporter": "python",
   "pygments_lexer": "ipython3",
   "version": "3.9.7"
  }
 },
 "nbformat": 4,
 "nbformat_minor": 5
}
