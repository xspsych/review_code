{
 "cells": [
  {
   "cell_type": "code",
   "execution_count": null,
   "id": "ceb30c86-63ad-4ede-8092-e9bea3dead2a",
   "metadata": {},
   "outputs": [],
   "source": [
    "import numpy as np\n",
    "import h5py\n",
    "import scipy.io as sio\n",
    "import matplotlib.pyplot as plt\n",
    "from scipy.stats import ttest_1samp, ttest_ind, ttest_rel, f_oneway\n",
    "from mne.stats import fdr_correction, f_mway_rm\n",
    "from neurora.stuff import clusterbased_permutation_1d_1samp_1sided, permutation_test, \\\n",
    " clusterbased_permutation_2d_1samp_2sided, \\\n",
    " clusterbased_permutation_2d_2sided\n",
    "from mne.time_frequency import tfr_array_morlet\n",
    "from neurora.decoding import tbyt_decoding_kfold, ct_decoding_kfold\n",
    "from neurora.rsa_plot import plot_tbyt_decoding_acc, plot_ct_decoding_acc, plot_rdm, \\\n",
    " plot_tbytsim_withstats\n",
    "from neurora.rdm_cal import eegRDM\n",
    "from neurora.corr_cal_by_rdm import rdms_corr\n",
    "import glob\n",
    "import pandas as pd\n",
    "import os\n",
    "import matplotlib.pyplot as plt\n",
    "from matplotlib.pyplot import MultipleLocator\n",
    "import math"
   ]
  },
  {
   "cell_type": "code",
   "execution_count": null,
   "id": "05f4b160-d9bd-493d-b135-420304cfec5e",
   "metadata": {},
   "outputs": [],
   "source": [
    "List = list(np.sort(glob.glob(os.path.join(r'c:\\***\\','sub*'))))\n",
    "i = 1\n",
    "subdata = sio.loadmat(os.path.join(List[i],'erp.mat'))[\"ERP\"]\n",
    "sublabel = np.loadtxt(os.path.join(List[i],'label.txt'))"
   ]
  },
  {
   "cell_type": "code",
   "execution_count": null,
   "id": "d388072b-aa96-40c9-a486-b3283ba1d3c8",
   "metadata": {},
   "outputs": [],
   "source": [
    "List = list(np.sort(glob.glob(os.path.join(r'E:\\徐深文件\\项目\\chujue_xs\\decoding\\winthin subject two classification2','sub*'))))\n",
    "accuracy = np.zeros((len(List), 152))\n",
    "for i in range(len(List)):\n",
    "    print(i+1)\n",
    "    subdata = sio.loadmat(os.path.join(List[i],'erp.mat'))[\"ERP\"]\n",
    "    sublabel = np.loadtxt(os.path.join(List[i],'label.txt'))\n",
    "    data = np.zeros((1, len(subdata[:,1,1]), 63, 5500))\n",
    "    label = np.zeros((1, len(subdata[:,1,1])))\n",
    "    data[0] = subdata\n",
    "    label[0] = sublabel\n",
    "    accs = tbyt_decoding_kfold(data, label, n=2, navg=17, time_win=5, time_step=5,\n",
    "                                   nfolds=3, nrepeats=40, smooth=True)\n",
    "    accuracy[i,:] = accs"
   ]
  },
  {
   "cell_type": "code",
   "execution_count": null,
   "id": "e8b54320-877c-4a81-87a7-c52d5e29ef46",
   "metadata": {},
   "outputs": [],
   "source": [
    "import numpy as np\n",
    "import h5py\n",
    "import scipy.io as sio\n",
    "import matplotlib.pyplot as plt\n",
    "from scipy.stats import ttest_1samp, ttest_ind, ttest_rel, f_oneway\n",
    "from mne.stats import fdr_correction, f_mway_rm\n",
    "from neurora.stuff import clusterbased_permutation_1d_1samp_1sided, permutation_test, \\\n",
    " clusterbased_permutation_2d_1samp_2sided, \\\n",
    " clusterbased_permutation_2d_2sided\n",
    "from mne.time_frequency import tfr_array_morlet\n",
    "from neurora.decoding import tbyt_decoding_kfold, ct_decoding_kfold\n",
    "from neurora.rsa_plot import plot_tbyt_decoding_acc, plot_ct_decoding_acc, plot_rdm, \\\n",
    " plot_tbytsim_withstats\n",
    "from neurora.rdm_cal import eegRDM\n",
    "from neurora.corr_cal_by_rdm import rdms_corr\n",
    "import glob\n",
    "import pandas as pd\n",
    "import os\n",
    "import matplotlib.pyplot as plt\n",
    "from matplotlib.pyplot import MultipleLocator\n",
    "import math"
   ]
  }
 ],
 "metadata": {
  "kernelspec": {
   "display_name": "Python 3 (ipykernel)",
   "language": "python",
   "name": "python3"
  },
  "language_info": {
   "codemirror_mode": {
    "name": "ipython",
    "version": 3
   },
   "file_extension": ".py",
   "mimetype": "text/x-python",
   "name": "python",
   "nbconvert_exporter": "python",
   "pygments_lexer": "ipython3",
   "version": "3.9.7"
  }
 },
 "nbformat": 4,
 "nbformat_minor": 5
}
