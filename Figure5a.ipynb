{
 "cells": [
  {
   "cell_type": "code",
   "execution_count": null,
   "id": "70820bcd-fea2-4db3-a345-7388bdfd674d",
   "metadata": {},
   "outputs": [],
   "source": [
    "import numpy as np\n",
    "import matplotlib.pyplot as plt\n",
    "from scipy.fftpack import fft,ifft\n",
    "from scipy import signal\n",
    "import glob\n",
    "import os\n",
    "import scipy.io as sio\n",
    "from matplotlib.pyplot import MultipleLocator"
   ]
  },
  {
   "cell_type": "code",
   "execution_count": null,
   "id": "1b0e1f06-44ba-4531-99f9-e6339a95a719",
   "metadata": {},
   "outputs": [],
   "source": [
    "def sin_wave(A, f, fs, phi, t):\n",
    "    Ts = 1/fs\n",
    "    n = t / Ts\n",
    "    n = np.arange(n)\n",
    "    y = A*np.sin(2*np.pi*f*n*Ts + phi*(np.pi/180))\n",
    "    return y"
   ]
  },
  {
   "cell_type": "code",
   "execution_count": null,
   "id": "2d7c180f-f22c-4ccb-914e-24739e0c5bc3",
   "metadata": {},
   "outputs": [],
   "source": [
    "t = np.linspace(0, 5, 2500, endpoint=False)\n",
    "x4 = sin_wave(A=1, f=4, fs=500, phi=np.pi/2, t=5) + np.random.normal(loc=0,scale=0.5,size=2500) ## x\n",
    "x6 = sin_wave(A=1, f=6, fs=500, phi=np.pi/2, t=5) + np.random.normal(loc=0,scale=0.5,size=2500) ## y\n",
    "x4_rec = [0]*2500\n",
    "x6_rec = [0]*2500\n",
    "x4_hsq = [0]*2500\n",
    "x6_hsq = [0]*2500\n",
    "x4_sq = [0]*2500\n",
    "x6_sq = [0]*2500\n",
    "a = [0]*2500\n",
    "for i in range(2500):\n",
    "    if x4[i] > 0:\n",
    "        x4_rec[i] = x4[i]+1\n",
    "    else:\n",
    "        x4_rec[i] = 1\n",
    "    if x6[i] > 0:\n",
    "        x6_rec[i] = x6[i]+1\n",
    "    else:\n",
    "        x6_rec[i] = 1\n",
    "\n",
    "    if x4[i] > 0:\n",
    "        x4_hsq[i] = x4[i]*x4[i]\n",
    "    else:\n",
    "        x4_hsq[i] = 0\n",
    "    if x6[i] > 0:\n",
    "        x6_hsq[i] = x6[i]*x6[i]\n",
    "    else:\n",
    "        x6_hsq[i] = 0\n",
    "        \n",
    "    if x4[i]*x6[i] > 0:\n",
    "        a[i] = 3\n",
    "    else:\n",
    "        a[i] = 1\n",
    "\n",
    "\n",
    "        \n",
    "fig = plt.figure(1, figsize=(8,1),dpi = 300)\n",
    "ax = plt.axes()\n",
    "ax.spines['top'].set_visible(False)\n",
    "ax.spines['right'].set_visible(False)\n",
    "plt.plot(t,x4+3,color='grey')\n",
    "plt.xlim([0,5])\n",
    "\n",
    "x_major_locator=MultipleLocator(1)\n",
    "y_major_locator=MultipleLocator(50)\n",
    "ax = plt.gca()\n",
    "ax.xaxis.set_major_locator(x_major_locator)\n",
    "ax.yaxis.set_major_locator(y_major_locator)\n",
    "plt.xticks(fontsize=20)\n",
    "plt.yticks(fontsize=20)\n",
    "plt.savefig(r\"C:\\***.png\")"
   ]
  }
 ],
 "metadata": {
  "kernelspec": {
   "display_name": "Python 3 (ipykernel)",
   "language": "python",
   "name": "python3"
  },
  "language_info": {
   "codemirror_mode": {
    "name": "ipython",
    "version": 3
   },
   "file_extension": ".py",
   "mimetype": "text/x-python",
   "name": "python",
   "nbconvert_exporter": "python",
   "pygments_lexer": "ipython3",
   "version": "3.9.7"
  }
 },
 "nbformat": 4,
 "nbformat_minor": 5
}
